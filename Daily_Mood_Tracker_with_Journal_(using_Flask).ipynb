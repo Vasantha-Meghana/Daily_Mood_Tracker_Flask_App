{
  "nbformat": 4,
  "nbformat_minor": 0,
  "metadata": {
    "colab": {
      "provenance": [],
      "authorship_tag": "ABX9TyPtHLfkb4QL9lPcEm+zzfuQ",
      "include_colab_link": true
    },
    "kernelspec": {
      "name": "python3",
      "display_name": "Python 3"
    },
    "language_info": {
      "name": "python"
    }
  },
  "cells": [
    {
      "cell_type": "markdown",
      "metadata": {
        "id": "view-in-github",
        "colab_type": "text"
      },
      "source": [
        "<a href=\"https://colab.research.google.com/github/Vasantha-Meghana/Daily_Mood_Tracker_Flask_App/blob/main/Daily_Mood_Tracker_with_Journal_(using_Flask).ipynb\" target=\"_parent\"><img src=\"https://colab.research.google.com/assets/colab-badge.svg\" alt=\"Open In Colab\"/></a>"
      ]
    },
    {
      "cell_type": "code",
      "execution_count": 1,
      "metadata": {
        "colab": {
          "base_uri": "https://localhost:8080/"
        },
        "id": "RdBhnP3DleRo",
        "outputId": "0478966a-f12f-44f1-c742-f13be537259a"
      },
      "outputs": [
        {
          "output_type": "stream",
          "name": "stdout",
          "text": [
            "Requirement already satisfied: flask in /usr/local/lib/python3.11/dist-packages (3.1.1)\n",
            "Collecting flask_sqlalchemy\n",
            "  Downloading flask_sqlalchemy-3.1.1-py3-none-any.whl.metadata (3.4 kB)\n",
            "Collecting pyngrok\n",
            "  Downloading pyngrok-7.2.11-py3-none-any.whl.metadata (9.4 kB)\n",
            "Requirement already satisfied: werkzeug in /usr/local/lib/python3.11/dist-packages (3.1.3)\n",
            "Requirement already satisfied: blinker>=1.9.0 in /usr/local/lib/python3.11/dist-packages (from flask) (1.9.0)\n",
            "Requirement already satisfied: click>=8.1.3 in /usr/local/lib/python3.11/dist-packages (from flask) (8.2.1)\n",
            "Requirement already satisfied: itsdangerous>=2.2.0 in /usr/local/lib/python3.11/dist-packages (from flask) (2.2.0)\n",
            "Requirement already satisfied: jinja2>=3.1.2 in /usr/local/lib/python3.11/dist-packages (from flask) (3.1.6)\n",
            "Requirement already satisfied: markupsafe>=2.1.1 in /usr/local/lib/python3.11/dist-packages (from flask) (3.0.2)\n",
            "Requirement already satisfied: sqlalchemy>=2.0.16 in /usr/local/lib/python3.11/dist-packages (from flask_sqlalchemy) (2.0.41)\n",
            "Requirement already satisfied: PyYAML>=5.1 in /usr/local/lib/python3.11/dist-packages (from pyngrok) (6.0.2)\n",
            "Requirement already satisfied: greenlet>=1 in /usr/local/lib/python3.11/dist-packages (from sqlalchemy>=2.0.16->flask_sqlalchemy) (3.2.3)\n",
            "Requirement already satisfied: typing-extensions>=4.6.0 in /usr/local/lib/python3.11/dist-packages (from sqlalchemy>=2.0.16->flask_sqlalchemy) (4.14.0)\n",
            "Downloading flask_sqlalchemy-3.1.1-py3-none-any.whl (25 kB)\n",
            "Downloading pyngrok-7.2.11-py3-none-any.whl (25 kB)\n",
            "Installing collected packages: pyngrok, flask_sqlalchemy\n",
            "Successfully installed flask_sqlalchemy-3.1.1 pyngrok-7.2.11\n"
          ]
        }
      ],
      "source": [
        "!pip install flask flask_sqlalchemy pyngrok werkzeug"
      ]
    },
    {
      "cell_type": "code",
      "source": [
        "'''app.py\n",
        "from flask import Flask, render_template, request, redirect\n",
        "from flask_sqlalchemy import SQLAlchemy\n",
        "from datetime import datetime\n",
        "\n",
        "app = Flask(__name__)\n",
        "app.config['SQLALCHEMY_DATABASE_URI'] = 'sqlite:///mood_journal.db'\n",
        "app.config['SQLALCHEMY_TRACK_MODIFICATIONS'] = False\n",
        "db = SQLAlchemy(app)\n",
        "\n",
        "class MoodEntry(db.Model):\n",
        "    id = db.Column(db.Integer, primary_key=True)\n",
        "    timestamp = db.Column(db.DateTime, default=datetime.utcnow)\n",
        "    mood = db.Column(db.String(20), nullable=False)\n",
        "    journal = db.Column(db.Text, nullable=False)\n",
        "\n",
        "@app.route('/')\n",
        "def index():\n",
        "    entries = MoodEntry.query.order_by(MoodEntry.timestamp.desc()).all()\n",
        "    return render_template('index.html', entries=entries)\n",
        "\n",
        "@app.route('/add', methods=['POST'])\n",
        "def add():\n",
        "    mood = request.form['mood']\n",
        "    journal = request.form['journal']\n",
        "    entry = MoodEntry(mood=mood, journal=journal)\n",
        "    db.session.add(entry)\n",
        "    db.session.commit()\n",
        "    return redirect('/')\n",
        "\n",
        "if __name__ == '__main__':\n",
        "    app.run()\n",
        "    '''"
      ],
      "metadata": {
        "id": "DJuON0N2zjxc"
      },
      "execution_count": null,
      "outputs": []
    },
    {
      "cell_type": "code",
      "source": [
        "import os\n",
        "\n",
        "os.makedirs(\"templates\", exist_ok=True)"
      ],
      "metadata": {
        "id": "dxm-zMzippxq"
      },
      "execution_count": 2,
      "outputs": []
    },
    {
      "cell_type": "code",
      "source": [
        "'''index.html\n",
        "<!DOCTYPE html>\n",
        "<html>\n",
        "<head>\n",
        "    <title>Daily Mood Tracker</title>\n",
        "    <style>\n",
        "        body {\n",
        "            font-family: 'Segoe UI', sans-serif;\n",
        "            background-color: #f3f4f6;\n",
        "            margin: 0;\n",
        "            padding: 20px;\n",
        "        }\n",
        "        h1 {\n",
        "            text-align: center;\n",
        "            color: #374151;\n",
        "        }\n",
        "        form {\n",
        "            background-color: #ffffff;\n",
        "            padding: 20px;\n",
        "            border-radius: 12px;\n",
        "            box-shadow: 0 4px 6px rgba(0, 0, 0, 0.1);\n",
        "            max-width: 600px;\n",
        "            margin: 0 auto 30px auto;\n",
        "        }\n",
        "        label {\n",
        "            font-weight: bold;\n",
        "        }\n",
        "        select, textarea {\n",
        "            width: 100%;\n",
        "            padding: 10px;\n",
        "            margin-top: 5px;\n",
        "            margin-bottom: 15px;\n",
        "            border-radius: 6px;\n",
        "            border: 1px solid #d1d5db;\n",
        "        }\n",
        "        input[type=\"submit\"] {\n",
        "            background-color: #3b82f6;\n",
        "            color: white;\n",
        "            padding: 10px 20px;\n",
        "            border: none;\n",
        "            border-radius: 8px;\n",
        "            cursor: pointer;\n",
        "            font-weight: bold;\n",
        "        }\n",
        "        input[type=\"submit\"]:hover {\n",
        "            background-color: #2563eb;\n",
        "        }\n",
        "        .entry {\n",
        "            background-color: #ffffff;\n",
        "            border-left: 6px solid #3b82f6;\n",
        "            margin-bottom: 20px;\n",
        "            padding: 15px;\n",
        "            border-radius: 10px;\n",
        "            box-shadow: 0 1px 4px rgba(0,0,0,0.1);\n",
        "            max-width: 700px;\n",
        "            margin-left: auto;\n",
        "            margin-right: auto;\n",
        "        }\n",
        "        .entry .timestamp {\n",
        "            font-size: 0.9em;\n",
        "            color: #6b7280;\n",
        "            margin-bottom: 5px;\n",
        "        }\n",
        "        .entry .mood {\n",
        "            font-size: 1.1em;\n",
        "            font-weight: bold;\n",
        "        }\n",
        "        .entry .journal {\n",
        "            margin-top: 10px;\n",
        "            white-space: pre-wrap;\n",
        "        }\n",
        "    </style>\n",
        "</head>\n",
        "<body>\n",
        "    <h1>🌤️ Daily Mood Tracker & Journal</h1>\n",
        "    <form action=\"/add\" method=\"post\">\n",
        "        <label for=\"mood\">How are you feeling today?</label>\n",
        "        <select name=\"mood\" id=\"mood\" required>\n",
        "            <option value=\"😊 Happy\">😊 Happy</option>\n",
        "            <option value=\"😢 Sad\">😢 Sad</option>\n",
        "            <option value=\"😠 Angry\">😠 Angry</option>\n",
        "            <option value=\"😄 Excited\">😄 Excited</option>\n",
        "            <option value=\"😴 Tired\">😴 Tired</option>\n",
        "            <option value=\"😐 Neutral\">😐 Neutral</option>\n",
        "        </select>\n",
        "\n",
        "        <label for=\"journal\">Write about your day:</label>\n",
        "        <textarea name=\"journal\" rows=\"5\" required placeholder=\"What happened today? How did you feel?\"></textarea>\n",
        "\n",
        "        <input type=\"submit\" value=\"Save Entry\">\n",
        "    </form>\n",
        "\n",
        "    <h2 style=\"text-align:center; color: #374151;\">📚 Your Past Entries</h2>\n",
        "    {% for entry in entries %}\n",
        "        <div class=\"entry\">\n",
        "            <div class=\"timestamp\">{{ entry.timestamp.strftime('%B %d, %Y %I:%M %p') }}</div>\n",
        "            <div class=\"mood\">{{ entry.mood }}</div>\n",
        "            <div class=\"journal\">{{ entry.journal }}</div>\n",
        "        </div>\n",
        "    {% endfor %}\n",
        "</body>\n",
        "</html>\n",
        "'''"
      ],
      "metadata": {
        "id": "9JRFH-xNzuXk"
      },
      "execution_count": null,
      "outputs": []
    },
    {
      "cell_type": "code",
      "source": [
        "from app import app, db\n",
        "\n",
        "# Create database inside application context\n",
        "with app.app_context():\n",
        "    db.create_all()\n",
        "\n",
        "print(\"✅ Database created successfully.\")"
      ],
      "metadata": {
        "colab": {
          "base_uri": "https://localhost:8080/"
        },
        "id": "B6ecoIUCpqd6",
        "outputId": "96706392-eb70-41e4-b2f0-72a846324233"
      },
      "execution_count": 3,
      "outputs": [
        {
          "output_type": "stream",
          "name": "stdout",
          "text": [
            "✅ Database created successfully.\n"
          ]
        }
      ]
    },
    {
      "cell_type": "code",
      "source": [
        "from pyngrok import ngrok\n",
        "import os\n",
        "\n",
        "ngrok.set_auth_token(\"2rkYGymAj1Af2jIJE740ST5qHh1_2zHk3zsyoESsFkXkv6UTM\")\n",
        "ngrok.kill()\n",
        "os.system(\"FLASK_APP=app.py flask run --port=8000 &\")\n",
        "public_url = ngrok.connect(8000)\n",
        "print(f\"🚀 Your app is live at: {public_url}\")"
      ],
      "metadata": {
        "colab": {
          "base_uri": "https://localhost:8080/"
        },
        "id": "HxdXRDv5qgYq",
        "outputId": "36982bdf-8030-4eb1-ca91-342644d2b6ee"
      },
      "execution_count": 9,
      "outputs": [
        {
          "output_type": "stream",
          "name": "stdout",
          "text": [
            "🚀 Your app is live at: NgrokTunnel: \"https://4c48c9063461.ngrok-free.app\" -> \"http://localhost:8000\"\n"
          ]
        }
      ]
    },
    {
      "cell_type": "code",
      "source": [
        "!kill $(ps -ef | grep \"flask run\" | grep -v grep | awk '{print $2}')"
      ],
      "metadata": {
        "id": "_okDfsA2ecTK"
      },
      "execution_count": 6,
      "outputs": []
    },
    {
      "cell_type": "code",
      "source": [
        "ngrok.kill()"
      ],
      "metadata": {
        "id": "kYbloi1wmBCx"
      },
      "execution_count": 8,
      "outputs": []
    }
  ]
}